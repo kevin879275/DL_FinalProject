{
 "metadata": {
  "language_info": {
   "codemirror_mode": {
    "name": "ipython",
    "version": 3
   },
   "file_extension": ".py",
   "mimetype": "text/x-python",
   "name": "python",
   "nbconvert_exporter": "python",
   "pygments_lexer": "ipython3",
   "version": "3.8.5-final"
  },
  "orig_nbformat": 2,
  "kernelspec": {
   "name": "python3",
   "display_name": "Python 3"
  }
 },
 "nbformat": 4,
 "nbformat_minor": 2,
 "cells": [
  {
   "cell_type": "code",
   "execution_count": 4,
   "metadata": {},
   "outputs": [],
   "source": [
    "%run model.ipynb\n",
    "%run data.ipynb"
   ]
  },
  {
   "cell_type": "code",
   "execution_count": 5,
   "metadata": {},
   "outputs": [],
   "source": [
    "import matplotlib.pyplot as plt\n",
    "from sklearn.model_selection import train_test_split\n",
    "from sklearn.metrics import mean_squared_error, mean_absolute_error, r2_score"
   ]
  },
  {
   "cell_type": "code",
   "execution_count": 3,
   "metadata": {},
   "outputs": [
    {
     "output_type": "stream",
     "name": "stdout",
     "text": [
      "Iteration 1, loss = 34.26022354\n",
      "Iteration 2, loss = 19.75781603\n"
     ]
    },
    {
     "output_type": "execute_result",
     "data": {
      "text/plain": [
       "MLPRegressor(hidden_layer_sizes=(100, 30), learning_rate='adaptive',\n",
       "             verbose=True)"
      ]
     },
     "metadata": {},
     "execution_count": 3
    }
   ],
   "source": [
    "X_train, X_test, y_train, y_test = train_test_split(x, y,\n",
    "                                                    random_state=1)\n",
    "regr.fit(X_train, y_train)\n",
    "#svr.fit(X_train, y_train)"
   ]
  },
  {
   "cell_type": "code",
   "execution_count": null,
   "metadata": {},
   "outputs": [],
   "source": [
    "pd.DataFrame(regr.loss_curve_).plot()\n",
    "plt.xlabel('iteration')\n",
    "plt.ylabel('loss value')"
   ]
  },
  {
   "cell_type": "code",
   "execution_count": null,
   "metadata": {},
   "outputs": [],
   "source": [
    "predict = svr.predict(x)\n",
    "svr.score(x,y)\n",
    "# predict = regr.predict(X_test)\n",
    "# regr.score(X_test,y_test)plt.scatter(predict,y_test,s=2)\n",
    "#plt.plot(predict_y, predict_y, 'ro')\n",
    "plt.plot([y_test.min(), y_test.max()], [y_test.min(), y_test.max()], 'k--', lw=2)\n",
    "plt.xlabel('Predicted')\n",
    "plt.ylabel('Measured')"
   ]
  },
  {
   "cell_type": "code",
   "execution_count": null,
   "metadata": {},
   "outputs": [],
   "source": [
    "# The mean squared error\n",
    "from math import sqrt\n",
    "\n",
    "print(\"Root mean squared error: %.2f\"\n",
    "      % sqrt(mean_squared_error(y_test, predict)))\n",
    "# The absolute squared error\n",
    "print(\"Mean absolute error: %.2f\"\n",
    "      % mean_absolute_error(y_test, predict))\n",
    "# Explained variance score: 1 is perfect prediction\n",
    "print('R-squared: %.2f' % r2_score(y_test, predict))"
   ]
  },
  {
   "cell_type": "code",
   "execution_count": null,
   "metadata": {},
   "outputs": [],
   "source": [
    "predict = regr.predict(x_without_ID)\n",
    "val = pd.DataFrame({'預測乳量':predict})\n",
    "x = x.join(val)\n",
    "x_group = x.groupby(['ID']).mean()\n",
    "x_index = list(range(0,x_group.shape[0]))\n",
    "x_group.index"
   ]
  },
  {
   "cell_type": "code",
   "execution_count": null,
   "metadata": {},
   "outputs": [],
   "source": [
    "plt.scatter(x_index,x_group['預測乳量'].values,s=2)\n",
    "#plt.plot(predict_y, predict_y, 'ro')\n",
    "plt.plot([x_group['預測乳量'].values.min(), x_group['預測乳量'].values.max()], \n",
    "         [x_group['預測乳量'].values.min(),x_group['預測乳量'].values.max()], 'k--', lw=2)\n",
    "plt.xlabel('index')\n",
    "plt.ylabel('predict value')"
   ]
  },
  {
   "cell_type": "code",
   "execution_count": null,
   "metadata": {},
   "outputs": [],
   "source": [
    "for index in range(x_group.shape[0]):\n",
    "    submission.loc[index, ['1']] = x_group['預測乳量'].values[index]\n",
    "submission"
   ]
  },
  {
   "cell_type": "code",
   "execution_count": null,
   "metadata": {},
   "outputs": [],
   "source": [
    "submission.columns = ['ID','預測乳量']\n",
    "submission.to_csv('result.csv',index = False)"
   ]
  }
 ]
}