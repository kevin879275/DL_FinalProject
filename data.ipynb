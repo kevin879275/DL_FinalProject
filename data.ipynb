{
 "cells": [
  {
   "cell_type": "code",
   "execution_count": 1,
   "metadata": {},
   "outputs": [],
   "source": [
    "import pandas as pd\n"
   ]
  },
  {
   "cell_type": "code",
   "execution_count": 2,
   "metadata": {},
   "outputs": [],
   "source": [
    "filelist = ['birth.csv', 'breed.csv', 'report.csv', 'spec.csv','submission.csv']"
   ]
  },
  {
   "cell_type": "markdown",
   "metadata": {},
   "source": [
    "# Read File"
   ]
  },
  {
   "cell_type": "code",
   "execution_count": 3,
   "metadata": {},
   "outputs": [
    {
     "output_type": "execute_result",
     "data": {
      "text/plain": [
       "         ID   1\n",
       "0       480 NaN\n",
       "1       742 NaN\n",
       "2       743 NaN\n",
       "3       744 NaN\n",
       "4       745 NaN\n",
       "...     ...  ..\n",
       "4258  37481 NaN\n",
       "4259  37482 NaN\n",
       "4260  37483 NaN\n",
       "4261  37484 NaN\n",
       "4262  37485 NaN\n",
       "\n",
       "[4263 rows x 2 columns]"
      ],
      "text/html": "<div>\n<style scoped>\n    .dataframe tbody tr th:only-of-type {\n        vertical-align: middle;\n    }\n\n    .dataframe tbody tr th {\n        vertical-align: top;\n    }\n\n    .dataframe thead th {\n        text-align: right;\n    }\n</style>\n<table border=\"1\" class=\"dataframe\">\n  <thead>\n    <tr style=\"text-align: right;\">\n      <th></th>\n      <th>ID</th>\n      <th>1</th>\n    </tr>\n  </thead>\n  <tbody>\n    <tr>\n      <th>0</th>\n      <td>480</td>\n      <td>NaN</td>\n    </tr>\n    <tr>\n      <th>1</th>\n      <td>742</td>\n      <td>NaN</td>\n    </tr>\n    <tr>\n      <th>2</th>\n      <td>743</td>\n      <td>NaN</td>\n    </tr>\n    <tr>\n      <th>3</th>\n      <td>744</td>\n      <td>NaN</td>\n    </tr>\n    <tr>\n      <th>4</th>\n      <td>745</td>\n      <td>NaN</td>\n    </tr>\n    <tr>\n      <th>...</th>\n      <td>...</td>\n      <td>...</td>\n    </tr>\n    <tr>\n      <th>4258</th>\n      <td>37481</td>\n      <td>NaN</td>\n    </tr>\n    <tr>\n      <th>4259</th>\n      <td>37482</td>\n      <td>NaN</td>\n    </tr>\n    <tr>\n      <th>4260</th>\n      <td>37483</td>\n      <td>NaN</td>\n    </tr>\n    <tr>\n      <th>4261</th>\n      <td>37484</td>\n      <td>NaN</td>\n    </tr>\n    <tr>\n      <th>4262</th>\n      <td>37485</td>\n      <td>NaN</td>\n    </tr>\n  </tbody>\n</table>\n<p>4263 rows × 2 columns</p>\n</div>"
     },
     "metadata": {},
     "execution_count": 3
    }
   ],
   "source": [
    "birth = pd.read_csv('./data/' + filelist[0])\n",
    "breed = pd.read_csv('./data/' + filelist[1])\n",
    "report = pd.read_csv('./data/' + filelist[2])\n",
    "spec = pd.read_csv('./data/' + filelist[3])\n",
    "submission = pd.read_csv('./data/' + filelist[4])\n",
    "submission"
   ]
  },
  {
   "cell_type": "code",
   "execution_count": 4,
   "metadata": {},
   "outputs": [
    {
     "output_type": "execute_result",
     "data": {
      "text/plain": [
       "          乳牛編號             配種日期        配種精液             登錄日期  孕檢 配種方式 精液種類  \\\n",
       "0        11361   2005/9/2 00:00      1H5506  2005/9/28 00:00   0    0    0   \n",
       "1        11469  2000/1/17 00:00      72H896  2000/1/31 00:00   0    0    0   \n",
       "2        11930  2000/5/12 00:00      9H2164  2000/5/22 00:00   0    0    0   \n",
       "3        11930  2000/5/26 00:00      1H2993   2000/7/6 00:00   0    0    0   \n",
       "4        11930   2000/7/4 00:00     14H2403  1988/7/29 00:00   0    0    0   \n",
       "...        ...              ...         ...              ...  ..  ...  ...   \n",
       "21045  6187429  2019/7/17 00:00  001HO12901  2019/7/26 00:00   0    0    0   \n",
       "21046  6187431  2019/7/24 00:00  001HO12901  2019/7/26 00:00   0    0    0   \n",
       "21047  6187441  2019/7/14 00:00  001HO12901  2019/7/26 00:00   0    0    0   \n",
       "21048  6187442  2019/7/17 00:00  001HO12901  2019/7/26 00:00   0    0    0   \n",
       "21049  6187446  2019/7/24 00:00  001HO12901  2019/7/26 00:00   0    0    0   \n",
       "\n",
       "      酪農場代號  \n",
       "0         A  \n",
       "1         A  \n",
       "2         A  \n",
       "3         A  \n",
       "4         A  \n",
       "...     ...  \n",
       "21045     C  \n",
       "21046     C  \n",
       "21047     C  \n",
       "21048     C  \n",
       "21049     C  \n",
       "\n",
       "[21050 rows x 8 columns]"
      ],
      "text/html": "<div>\n<style scoped>\n    .dataframe tbody tr th:only-of-type {\n        vertical-align: middle;\n    }\n\n    .dataframe tbody tr th {\n        vertical-align: top;\n    }\n\n    .dataframe thead th {\n        text-align: right;\n    }\n</style>\n<table border=\"1\" class=\"dataframe\">\n  <thead>\n    <tr style=\"text-align: right;\">\n      <th></th>\n      <th>乳牛編號</th>\n      <th>配種日期</th>\n      <th>配種精液</th>\n      <th>登錄日期</th>\n      <th>孕檢</th>\n      <th>配種方式</th>\n      <th>精液種類</th>\n      <th>酪農場代號</th>\n    </tr>\n  </thead>\n  <tbody>\n    <tr>\n      <th>0</th>\n      <td>11361</td>\n      <td>2005/9/2 00:00</td>\n      <td>1H5506</td>\n      <td>2005/9/28 00:00</td>\n      <td>0</td>\n      <td>0</td>\n      <td>0</td>\n      <td>A</td>\n    </tr>\n    <tr>\n      <th>1</th>\n      <td>11469</td>\n      <td>2000/1/17 00:00</td>\n      <td>72H896</td>\n      <td>2000/1/31 00:00</td>\n      <td>0</td>\n      <td>0</td>\n      <td>0</td>\n      <td>A</td>\n    </tr>\n    <tr>\n      <th>2</th>\n      <td>11930</td>\n      <td>2000/5/12 00:00</td>\n      <td>9H2164</td>\n      <td>2000/5/22 00:00</td>\n      <td>0</td>\n      <td>0</td>\n      <td>0</td>\n      <td>A</td>\n    </tr>\n    <tr>\n      <th>3</th>\n      <td>11930</td>\n      <td>2000/5/26 00:00</td>\n      <td>1H2993</td>\n      <td>2000/7/6 00:00</td>\n      <td>0</td>\n      <td>0</td>\n      <td>0</td>\n      <td>A</td>\n    </tr>\n    <tr>\n      <th>4</th>\n      <td>11930</td>\n      <td>2000/7/4 00:00</td>\n      <td>14H2403</td>\n      <td>1988/7/29 00:00</td>\n      <td>0</td>\n      <td>0</td>\n      <td>0</td>\n      <td>A</td>\n    </tr>\n    <tr>\n      <th>...</th>\n      <td>...</td>\n      <td>...</td>\n      <td>...</td>\n      <td>...</td>\n      <td>...</td>\n      <td>...</td>\n      <td>...</td>\n      <td>...</td>\n    </tr>\n    <tr>\n      <th>21045</th>\n      <td>6187429</td>\n      <td>2019/7/17 00:00</td>\n      <td>001HO12901</td>\n      <td>2019/7/26 00:00</td>\n      <td>0</td>\n      <td>0</td>\n      <td>0</td>\n      <td>C</td>\n    </tr>\n    <tr>\n      <th>21046</th>\n      <td>6187431</td>\n      <td>2019/7/24 00:00</td>\n      <td>001HO12901</td>\n      <td>2019/7/26 00:00</td>\n      <td>0</td>\n      <td>0</td>\n      <td>0</td>\n      <td>C</td>\n    </tr>\n    <tr>\n      <th>21047</th>\n      <td>6187441</td>\n      <td>2019/7/14 00:00</td>\n      <td>001HO12901</td>\n      <td>2019/7/26 00:00</td>\n      <td>0</td>\n      <td>0</td>\n      <td>0</td>\n      <td>C</td>\n    </tr>\n    <tr>\n      <th>21048</th>\n      <td>6187442</td>\n      <td>2019/7/17 00:00</td>\n      <td>001HO12901</td>\n      <td>2019/7/26 00:00</td>\n      <td>0</td>\n      <td>0</td>\n      <td>0</td>\n      <td>C</td>\n    </tr>\n    <tr>\n      <th>21049</th>\n      <td>6187446</td>\n      <td>2019/7/24 00:00</td>\n      <td>001HO12901</td>\n      <td>2019/7/26 00:00</td>\n      <td>0</td>\n      <td>0</td>\n      <td>0</td>\n      <td>C</td>\n    </tr>\n  </tbody>\n</table>\n<p>21050 rows × 8 columns</p>\n</div>"
     },
     "metadata": {},
     "execution_count": 4
    }
   ],
   "source": [
    "birth_index = ['乳牛編號', '分娩日期', '乾乳日期','犢牛編號1','犢牛編號2','母牛體重','登錄日期','計算胎次','胎次','分娩難易度','犢牛體型','犢牛性別','酪農場代號']\n",
    "report_index = ['ID','資料年度','資料月份','酪農場代號','乳牛編號','父親精液編號','母親乳牛編號','出生日期','胎次','泌乳天數','乳量','最近分娩日期','採樣日期','月齡','檢測日期','最後配種日期','最後配種精液','配種次數','前次分娩日期','第一次配種日期','第一次配種精液']\n",
    "breed_index = ['乳牛編號','配種日期','配種精液','登錄日期','孕檢','配種方式','精液種類','酪農場代號']\n",
    "spec_index = ['乳牛編號','狀況類別','狀況代號','狀況日期','備註','登錄日期','酪農場代號']\n",
    "birth.columns = birth_index\n",
    "report.columns = report_index\n",
    "breed.columns = breed_index\n",
    "spec.columns = spec_index\n",
    "birth.fillna(0,inplace = True)\n",
    "report.fillna(0,inplace = True)\n",
    "breed.fillna(0, inplace = True)\n",
    "spec.fillna(0, inplace = True)\n",
    "breed"
   ]
  },
  {
   "cell_type": "code",
   "execution_count": 5,
   "metadata": {},
   "outputs": [
    {
     "output_type": "execute_result",
     "data": {
      "text/plain": [
       "array([    1,     2,     3, ..., 37515, 37516, 37517], dtype=int64)"
      ]
     },
     "metadata": {},
     "execution_count": 5
    }
   ],
   "source": [
    "Train_ID = [rep_val for rep_val in report['ID'].values if rep_val not in submission['ID'].values]\n",
    "Train_report = report.loc[report['ID'].isin(Train_ID)]\n",
    "Train_Number = Train_report['乳牛編號'].values\n",
    "Train_report['ID'].values\n",
    "#Train_breed = breed.loc[breed['乳牛編號'].isin(Train_Number)]\n",
    "#breed"
   ]
  },
  {
   "cell_type": "code",
   "execution_count": 6,
   "metadata": {},
   "outputs": [
    {
     "output_type": "execute_result",
     "data": {
      "text/plain": [
       "          ID  資料年度  資料月份 酪農場代號     乳牛編號      父親精液編號       母親乳牛編號  \\\n",
       "479      480  2019     1     A    52631    501H9952     97040152   \n",
       "741      742  2019     2     A    52640    501H9952     96040567   \n",
       "742      743  2019     3     A    52640    501H9952     96040567   \n",
       "743      744  2019     4     A    52640    501H9952     96040567   \n",
       "744      745  2019     5     A    52640    501H9952     96040567   \n",
       "...      ...   ...   ...   ...      ...         ...          ...   \n",
       "37480  37481  2019     6     C  6187446  001HO11511  4.17046e+06   \n",
       "37481  37482  2019     6     C  6187448  001HO11511  3.17231e+06   \n",
       "37482  37483  2019     6     C  6187449  001HO11511  2.17684e+06   \n",
       "37483  37484  2019     7     C  6187449  001HO11511  2.17684e+06   \n",
       "37484  37485  2019     7     C  6187451  001HO11511  2.17682e+06   \n",
       "\n",
       "                  出生日期  胎次   泌乳天數  ...           最近分娩日期             採樣日期  月齡  \\\n",
       "479    2011/3/17 00:00   4  435.0  ...  2017/11/1 00:00  2019/1/10 00:00  94   \n",
       "741     2011/4/1 00:00   4   13.0  ...  2019/1/29 00:00  2019/2/11 00:00  94   \n",
       "742     2011/4/1 00:00   4   35.0  ...  2019/1/29 00:00   2019/3/5 00:00  95   \n",
       "743     2011/4/1 00:00   4   70.0  ...  2019/1/29 00:00   2019/4/9 00:00  96   \n",
       "744     2011/4/1 00:00   4   98.0  ...  2019/1/29 00:00   2019/5/7 00:00  97   \n",
       "...                ...  ..    ...  ...              ...              ...  ..   \n",
       "37480   2017/6/1 00:00   1   15.0  ...  2019/6/10 00:00  2019/6/25 00:00  24   \n",
       "37481  2017/6/17 00:00   1   22.0  ...   2019/6/3 00:00  2019/6/25 00:00  24   \n",
       "37482  2017/8/10 00:00   1   21.0  ...   2019/6/4 00:00  2019/6/25 00:00  22   \n",
       "37483  2017/8/10 00:00   1   51.0  ...   2019/6/4 00:00  2019/7/25 00:00  23   \n",
       "37484  2017/8/21 00:00   1   15.0  ...  2019/7/10 00:00  2019/7/25 00:00  23   \n",
       "\n",
       "                  檢測日期           最後配種日期      最後配種精液 配種次數           前次分娩日期  \\\n",
       "479    2019/1/15 00:00   2019/2/3 00:00  551HO00657    6   2016/8/4 00:00   \n",
       "741    2019/2/12 00:00  2019/2/28 00:00  551HO00695    0  2017/6/17 00:00   \n",
       "742     2019/3/6 00:00  2019/2/28 00:00  551HO00695    1  2017/6/17 00:00   \n",
       "743    2019/4/11 00:00  2019/2/28 00:00  551HO00695    1  2017/6/17 00:00   \n",
       "744     2019/5/9 00:00  2019/2/28 00:00  551HO00695    1  2017/6/17 00:00   \n",
       "...                ...              ...         ...  ...              ...   \n",
       "37480  2019/6/27 00:00  2019/7/24 00:00  001HO12901    0                0   \n",
       "37481  2019/6/27 00:00                0           0    0                0   \n",
       "37482  2019/6/27 00:00                0           0    0                0   \n",
       "37483  2019/7/26 00:00                0           0    0                0   \n",
       "37484  2019/7/26 00:00                0           0    0                0   \n",
       "\n",
       "               第一次配種日期     第一次配種精液  \n",
       "479     2018/1/6 00:00  614HO07276  \n",
       "741    2019/2/28 00:00  551HO00695  \n",
       "742    2019/2/28 00:00  551HO00695  \n",
       "743    2019/2/28 00:00  551HO00695  \n",
       "744    2019/2/28 00:00  551HO00695  \n",
       "...                ...         ...  \n",
       "37480  2019/7/24 00:00  001HO12901  \n",
       "37481                0           0  \n",
       "37482                0           0  \n",
       "37483                0           0  \n",
       "37484                0           0  \n",
       "\n",
       "[4263 rows x 21 columns]"
      ],
      "text/html": "<div>\n<style scoped>\n    .dataframe tbody tr th:only-of-type {\n        vertical-align: middle;\n    }\n\n    .dataframe tbody tr th {\n        vertical-align: top;\n    }\n\n    .dataframe thead th {\n        text-align: right;\n    }\n</style>\n<table border=\"1\" class=\"dataframe\">\n  <thead>\n    <tr style=\"text-align: right;\">\n      <th></th>\n      <th>ID</th>\n      <th>資料年度</th>\n      <th>資料月份</th>\n      <th>酪農場代號</th>\n      <th>乳牛編號</th>\n      <th>父親精液編號</th>\n      <th>母親乳牛編號</th>\n      <th>出生日期</th>\n      <th>胎次</th>\n      <th>泌乳天數</th>\n      <th>...</th>\n      <th>最近分娩日期</th>\n      <th>採樣日期</th>\n      <th>月齡</th>\n      <th>檢測日期</th>\n      <th>最後配種日期</th>\n      <th>最後配種精液</th>\n      <th>配種次數</th>\n      <th>前次分娩日期</th>\n      <th>第一次配種日期</th>\n      <th>第一次配種精液</th>\n    </tr>\n  </thead>\n  <tbody>\n    <tr>\n      <th>479</th>\n      <td>480</td>\n      <td>2019</td>\n      <td>1</td>\n      <td>A</td>\n      <td>52631</td>\n      <td>501H9952</td>\n      <td>97040152</td>\n      <td>2011/3/17 00:00</td>\n      <td>4</td>\n      <td>435.0</td>\n      <td>...</td>\n      <td>2017/11/1 00:00</td>\n      <td>2019/1/10 00:00</td>\n      <td>94</td>\n      <td>2019/1/15 00:00</td>\n      <td>2019/2/3 00:00</td>\n      <td>551HO00657</td>\n      <td>6</td>\n      <td>2016/8/4 00:00</td>\n      <td>2018/1/6 00:00</td>\n      <td>614HO07276</td>\n    </tr>\n    <tr>\n      <th>741</th>\n      <td>742</td>\n      <td>2019</td>\n      <td>2</td>\n      <td>A</td>\n      <td>52640</td>\n      <td>501H9952</td>\n      <td>96040567</td>\n      <td>2011/4/1 00:00</td>\n      <td>4</td>\n      <td>13.0</td>\n      <td>...</td>\n      <td>2019/1/29 00:00</td>\n      <td>2019/2/11 00:00</td>\n      <td>94</td>\n      <td>2019/2/12 00:00</td>\n      <td>2019/2/28 00:00</td>\n      <td>551HO00695</td>\n      <td>0</td>\n      <td>2017/6/17 00:00</td>\n      <td>2019/2/28 00:00</td>\n      <td>551HO00695</td>\n    </tr>\n    <tr>\n      <th>742</th>\n      <td>743</td>\n      <td>2019</td>\n      <td>3</td>\n      <td>A</td>\n      <td>52640</td>\n      <td>501H9952</td>\n      <td>96040567</td>\n      <td>2011/4/1 00:00</td>\n      <td>4</td>\n      <td>35.0</td>\n      <td>...</td>\n      <td>2019/1/29 00:00</td>\n      <td>2019/3/5 00:00</td>\n      <td>95</td>\n      <td>2019/3/6 00:00</td>\n      <td>2019/2/28 00:00</td>\n      <td>551HO00695</td>\n      <td>1</td>\n      <td>2017/6/17 00:00</td>\n      <td>2019/2/28 00:00</td>\n      <td>551HO00695</td>\n    </tr>\n    <tr>\n      <th>743</th>\n      <td>744</td>\n      <td>2019</td>\n      <td>4</td>\n      <td>A</td>\n      <td>52640</td>\n      <td>501H9952</td>\n      <td>96040567</td>\n      <td>2011/4/1 00:00</td>\n      <td>4</td>\n      <td>70.0</td>\n      <td>...</td>\n      <td>2019/1/29 00:00</td>\n      <td>2019/4/9 00:00</td>\n      <td>96</td>\n      <td>2019/4/11 00:00</td>\n      <td>2019/2/28 00:00</td>\n      <td>551HO00695</td>\n      <td>1</td>\n      <td>2017/6/17 00:00</td>\n      <td>2019/2/28 00:00</td>\n      <td>551HO00695</td>\n    </tr>\n    <tr>\n      <th>744</th>\n      <td>745</td>\n      <td>2019</td>\n      <td>5</td>\n      <td>A</td>\n      <td>52640</td>\n      <td>501H9952</td>\n      <td>96040567</td>\n      <td>2011/4/1 00:00</td>\n      <td>4</td>\n      <td>98.0</td>\n      <td>...</td>\n      <td>2019/1/29 00:00</td>\n      <td>2019/5/7 00:00</td>\n      <td>97</td>\n      <td>2019/5/9 00:00</td>\n      <td>2019/2/28 00:00</td>\n      <td>551HO00695</td>\n      <td>1</td>\n      <td>2017/6/17 00:00</td>\n      <td>2019/2/28 00:00</td>\n      <td>551HO00695</td>\n    </tr>\n    <tr>\n      <th>...</th>\n      <td>...</td>\n      <td>...</td>\n      <td>...</td>\n      <td>...</td>\n      <td>...</td>\n      <td>...</td>\n      <td>...</td>\n      <td>...</td>\n      <td>...</td>\n      <td>...</td>\n      <td>...</td>\n      <td>...</td>\n      <td>...</td>\n      <td>...</td>\n      <td>...</td>\n      <td>...</td>\n      <td>...</td>\n      <td>...</td>\n      <td>...</td>\n      <td>...</td>\n      <td>...</td>\n    </tr>\n    <tr>\n      <th>37480</th>\n      <td>37481</td>\n      <td>2019</td>\n      <td>6</td>\n      <td>C</td>\n      <td>6187446</td>\n      <td>001HO11511</td>\n      <td>4.17046e+06</td>\n      <td>2017/6/1 00:00</td>\n      <td>1</td>\n      <td>15.0</td>\n      <td>...</td>\n      <td>2019/6/10 00:00</td>\n      <td>2019/6/25 00:00</td>\n      <td>24</td>\n      <td>2019/6/27 00:00</td>\n      <td>2019/7/24 00:00</td>\n      <td>001HO12901</td>\n      <td>0</td>\n      <td>0</td>\n      <td>2019/7/24 00:00</td>\n      <td>001HO12901</td>\n    </tr>\n    <tr>\n      <th>37481</th>\n      <td>37482</td>\n      <td>2019</td>\n      <td>6</td>\n      <td>C</td>\n      <td>6187448</td>\n      <td>001HO11511</td>\n      <td>3.17231e+06</td>\n      <td>2017/6/17 00:00</td>\n      <td>1</td>\n      <td>22.0</td>\n      <td>...</td>\n      <td>2019/6/3 00:00</td>\n      <td>2019/6/25 00:00</td>\n      <td>24</td>\n      <td>2019/6/27 00:00</td>\n      <td>0</td>\n      <td>0</td>\n      <td>0</td>\n      <td>0</td>\n      <td>0</td>\n      <td>0</td>\n    </tr>\n    <tr>\n      <th>37482</th>\n      <td>37483</td>\n      <td>2019</td>\n      <td>6</td>\n      <td>C</td>\n      <td>6187449</td>\n      <td>001HO11511</td>\n      <td>2.17684e+06</td>\n      <td>2017/8/10 00:00</td>\n      <td>1</td>\n      <td>21.0</td>\n      <td>...</td>\n      <td>2019/6/4 00:00</td>\n      <td>2019/6/25 00:00</td>\n      <td>22</td>\n      <td>2019/6/27 00:00</td>\n      <td>0</td>\n      <td>0</td>\n      <td>0</td>\n      <td>0</td>\n      <td>0</td>\n      <td>0</td>\n    </tr>\n    <tr>\n      <th>37483</th>\n      <td>37484</td>\n      <td>2019</td>\n      <td>7</td>\n      <td>C</td>\n      <td>6187449</td>\n      <td>001HO11511</td>\n      <td>2.17684e+06</td>\n      <td>2017/8/10 00:00</td>\n      <td>1</td>\n      <td>51.0</td>\n      <td>...</td>\n      <td>2019/6/4 00:00</td>\n      <td>2019/7/25 00:00</td>\n      <td>23</td>\n      <td>2019/7/26 00:00</td>\n      <td>0</td>\n      <td>0</td>\n      <td>0</td>\n      <td>0</td>\n      <td>0</td>\n      <td>0</td>\n    </tr>\n    <tr>\n      <th>37484</th>\n      <td>37485</td>\n      <td>2019</td>\n      <td>7</td>\n      <td>C</td>\n      <td>6187451</td>\n      <td>001HO11511</td>\n      <td>2.17682e+06</td>\n      <td>2017/8/21 00:00</td>\n      <td>1</td>\n      <td>15.0</td>\n      <td>...</td>\n      <td>2019/7/10 00:00</td>\n      <td>2019/7/25 00:00</td>\n      <td>23</td>\n      <td>2019/7/26 00:00</td>\n      <td>0</td>\n      <td>0</td>\n      <td>0</td>\n      <td>0</td>\n      <td>0</td>\n      <td>0</td>\n    </tr>\n  </tbody>\n</table>\n<p>4263 rows × 21 columns</p>\n</div>"
     },
     "metadata": {},
     "execution_count": 6
    }
   ],
   "source": [
    "Test_ID = [rep_val for rep_val in report['ID'].values if rep_val in submission['ID'].values]\n",
    "Test_report = report.loc[report['ID'].isin(Test_ID)]\n",
    "Test_Number = Test_report['乳牛編號'].values\n",
    "Test_report\n",
    "#Test_breed = breed.loc[breed['乳牛編號'].isin(Test_Number)]\n",
    "#Test_breed"
   ]
  },
  {
   "cell_type": "code",
   "execution_count": 7,
   "metadata": {},
   "outputs": [
    {
     "output_type": "execute_result",
     "data": {
      "text/plain": [
       "          ID  酪農場代號     乳牛編號  胎次   泌乳天數   乳量  月齡  配種次數\n",
       "479      480      0    52631   4  435.0  0.0  94     6\n",
       "741      742      0    52640   4   13.0  0.0  94     0\n",
       "742      743      0    52640   4   35.0  0.0  95     1\n",
       "743      744      0    52640   4   70.0  0.0  96     1\n",
       "744      745      0    52640   4   98.0  0.0  97     1\n",
       "...      ...    ...      ...  ..    ...  ...  ..   ...\n",
       "37480  37481      2  6187446   1   15.0  0.0  24     0\n",
       "37481  37482      2  6187448   1   22.0  0.0  24     0\n",
       "37482  37483      2  6187449   1   21.0  0.0  22     0\n",
       "37483  37484      2  6187449   1   51.0  0.0  23     0\n",
       "37484  37485      2  6187451   1   15.0  0.0  23     0\n",
       "\n",
       "[4263 rows x 8 columns]"
      ],
      "text/html": "<div>\n<style scoped>\n    .dataframe tbody tr th:only-of-type {\n        vertical-align: middle;\n    }\n\n    .dataframe tbody tr th {\n        vertical-align: top;\n    }\n\n    .dataframe thead th {\n        text-align: right;\n    }\n</style>\n<table border=\"1\" class=\"dataframe\">\n  <thead>\n    <tr style=\"text-align: right;\">\n      <th></th>\n      <th>ID</th>\n      <th>酪農場代號</th>\n      <th>乳牛編號</th>\n      <th>胎次</th>\n      <th>泌乳天數</th>\n      <th>乳量</th>\n      <th>月齡</th>\n      <th>配種次數</th>\n    </tr>\n  </thead>\n  <tbody>\n    <tr>\n      <th>479</th>\n      <td>480</td>\n      <td>0</td>\n      <td>52631</td>\n      <td>4</td>\n      <td>435.0</td>\n      <td>0.0</td>\n      <td>94</td>\n      <td>6</td>\n    </tr>\n    <tr>\n      <th>741</th>\n      <td>742</td>\n      <td>0</td>\n      <td>52640</td>\n      <td>4</td>\n      <td>13.0</td>\n      <td>0.0</td>\n      <td>94</td>\n      <td>0</td>\n    </tr>\n    <tr>\n      <th>742</th>\n      <td>743</td>\n      <td>0</td>\n      <td>52640</td>\n      <td>4</td>\n      <td>35.0</td>\n      <td>0.0</td>\n      <td>95</td>\n      <td>1</td>\n    </tr>\n    <tr>\n      <th>743</th>\n      <td>744</td>\n      <td>0</td>\n      <td>52640</td>\n      <td>4</td>\n      <td>70.0</td>\n      <td>0.0</td>\n      <td>96</td>\n      <td>1</td>\n    </tr>\n    <tr>\n      <th>744</th>\n      <td>745</td>\n      <td>0</td>\n      <td>52640</td>\n      <td>4</td>\n      <td>98.0</td>\n      <td>0.0</td>\n      <td>97</td>\n      <td>1</td>\n    </tr>\n    <tr>\n      <th>...</th>\n      <td>...</td>\n      <td>...</td>\n      <td>...</td>\n      <td>...</td>\n      <td>...</td>\n      <td>...</td>\n      <td>...</td>\n      <td>...</td>\n    </tr>\n    <tr>\n      <th>37480</th>\n      <td>37481</td>\n      <td>2</td>\n      <td>6187446</td>\n      <td>1</td>\n      <td>15.0</td>\n      <td>0.0</td>\n      <td>24</td>\n      <td>0</td>\n    </tr>\n    <tr>\n      <th>37481</th>\n      <td>37482</td>\n      <td>2</td>\n      <td>6187448</td>\n      <td>1</td>\n      <td>22.0</td>\n      <td>0.0</td>\n      <td>24</td>\n      <td>0</td>\n    </tr>\n    <tr>\n      <th>37482</th>\n      <td>37483</td>\n      <td>2</td>\n      <td>6187449</td>\n      <td>1</td>\n      <td>21.0</td>\n      <td>0.0</td>\n      <td>22</td>\n      <td>0</td>\n    </tr>\n    <tr>\n      <th>37483</th>\n      <td>37484</td>\n      <td>2</td>\n      <td>6187449</td>\n      <td>1</td>\n      <td>51.0</td>\n      <td>0.0</td>\n      <td>23</td>\n      <td>0</td>\n    </tr>\n    <tr>\n      <th>37484</th>\n      <td>37485</td>\n      <td>2</td>\n      <td>6187451</td>\n      <td>1</td>\n      <td>15.0</td>\n      <td>0.0</td>\n      <td>23</td>\n      <td>0</td>\n    </tr>\n  </tbody>\n</table>\n<p>4263 rows × 8 columns</p>\n</div>"
     },
     "metadata": {},
     "execution_count": 7
    }
   ],
   "source": [
    "report_drop_columns = ['ID','資料年度','資料月份','父親精液編號','母親乳牛編號','出生日期','最近分娩日期','採樣日期','檢測日期'\n",
    "               ,'最後配種日期','最後配種精液','前次分娩日期','第一次配種日期','第一次配種精液']\n",
    "Test_report_drop_columns = ['資料年度','資料月份','父親精液編號','母親乳牛編號','出生日期','最近分娩日期','採樣日期','檢測日期'\n",
    "               ,'最後配種日期','最後配種精液','前次分娩日期','第一次配種日期','第一次配種精液']\n",
    "mapping = {'A' : 0, 'B':1,'C':2}\n",
    "Train_report_x = Train_report.drop(columns=report_drop_columns, axis = 1)\n",
    "Train_report_x['酪農場代號'] = Train_report_x['酪農場代號'].map(mapping)\n",
    "Test_report_x = Test_report.drop(columns=Test_report_drop_columns, axis = 1)\n",
    "Test_report_x['酪農場代號'] = Test_report_x['酪農場代號'].map(mapping)\n",
    "Test_report_x"
   ]
  },
  {
   "cell_type": "code",
   "execution_count": 8,
   "metadata": {},
   "outputs": [
    {
     "output_type": "execute_result",
     "data": {
      "text/plain": [
       "           乳牛編號  配種方式  精液種類  酪農場代號\n",
       "7576   95121878     0     0      1\n",
       "7577   95121878     0     0      1\n",
       "7578   95121878     0     0      1\n",
       "8383   97051427     0     0      0\n",
       "8384   97051427     0     0      0\n",
       "...         ...   ...   ...    ...\n",
       "21045   6187429     0     0      2\n",
       "21046   6187431     0     0      2\n",
       "21047   6187441     0     0      2\n",
       "21048   6187442     0     0      2\n",
       "21049   6187446     0     0      2\n",
       "\n",
       "[4319 rows x 4 columns]"
      ],
      "text/html": "<div>\n<style scoped>\n    .dataframe tbody tr th:only-of-type {\n        vertical-align: middle;\n    }\n\n    .dataframe tbody tr th {\n        vertical-align: top;\n    }\n\n    .dataframe thead th {\n        text-align: right;\n    }\n</style>\n<table border=\"1\" class=\"dataframe\">\n  <thead>\n    <tr style=\"text-align: right;\">\n      <th></th>\n      <th>乳牛編號</th>\n      <th>配種方式</th>\n      <th>精液種類</th>\n      <th>酪農場代號</th>\n    </tr>\n  </thead>\n  <tbody>\n    <tr>\n      <th>7576</th>\n      <td>95121878</td>\n      <td>0</td>\n      <td>0</td>\n      <td>1</td>\n    </tr>\n    <tr>\n      <th>7577</th>\n      <td>95121878</td>\n      <td>0</td>\n      <td>0</td>\n      <td>1</td>\n    </tr>\n    <tr>\n      <th>7578</th>\n      <td>95121878</td>\n      <td>0</td>\n      <td>0</td>\n      <td>1</td>\n    </tr>\n    <tr>\n      <th>8383</th>\n      <td>97051427</td>\n      <td>0</td>\n      <td>0</td>\n      <td>0</td>\n    </tr>\n    <tr>\n      <th>8384</th>\n      <td>97051427</td>\n      <td>0</td>\n      <td>0</td>\n      <td>0</td>\n    </tr>\n    <tr>\n      <th>...</th>\n      <td>...</td>\n      <td>...</td>\n      <td>...</td>\n      <td>...</td>\n    </tr>\n    <tr>\n      <th>21045</th>\n      <td>6187429</td>\n      <td>0</td>\n      <td>0</td>\n      <td>2</td>\n    </tr>\n    <tr>\n      <th>21046</th>\n      <td>6187431</td>\n      <td>0</td>\n      <td>0</td>\n      <td>2</td>\n    </tr>\n    <tr>\n      <th>21047</th>\n      <td>6187441</td>\n      <td>0</td>\n      <td>0</td>\n      <td>2</td>\n    </tr>\n    <tr>\n      <th>21048</th>\n      <td>6187442</td>\n      <td>0</td>\n      <td>0</td>\n      <td>2</td>\n    </tr>\n    <tr>\n      <th>21049</th>\n      <td>6187446</td>\n      <td>0</td>\n      <td>0</td>\n      <td>2</td>\n    </tr>\n  </tbody>\n</table>\n<p>4319 rows × 4 columns</p>\n</div>"
     },
     "metadata": {},
     "execution_count": 8
    }
   ],
   "source": [
    "breed_drop_columns = ['配種日期','配種精液','登錄日期','孕檢']\n",
    "breed_x = breed.drop(columns=breed_drop_columns, axis = 1)\n",
    "breed_x['配種方式'] = pd.Categorical(breed_x['配種方式']).codes\n",
    "breed_x['精液種類'] = pd.Categorical(breed_x['精液種類']).codes\n",
    "breed_x['酪農場代號'] = breed_x['酪農場代號'].map(mapping)\n",
    "Train_breed_x = breed_x.loc[breed_x['乳牛編號'].isin(Train_Number)]\n",
    "Test_breed_x = breed_x.loc[breed_x['乳牛編號'].isin(Test_Number)]\n",
    "Test_breed_x"
   ]
  },
  {
   "cell_type": "code",
   "execution_count": 10,
   "metadata": {},
   "outputs": [
    {
     "output_type": "execute_result",
     "data": {
      "text/plain": [
       "          乳牛編號   母牛體重  胎次  分娩難易度  酪農場代號\n",
       "0     87121677    0.0   2    1.0      1\n",
       "1     96126940  522.0   2    2.0      1\n",
       "2     95181708  670.0   5    1.0      2\n",
       "3     97127665    0.0   3    2.0      1\n",
       "4     97182634  630.0   4    1.0      2\n",
       "...        ...    ...  ..    ...    ...\n",
       "3755   4181793  590.0   2    3.0      2\n",
       "3756   5184341  560.0   2    1.0      2\n",
       "3757   5184348  580.0   2    1.0      2\n",
       "3758  97182634  730.0   9    1.0      2\n",
       "3759  99183190  690.0   7    1.0      2\n",
       "\n",
       "[3587 rows x 5 columns]"
      ],
      "text/html": "<div>\n<style scoped>\n    .dataframe tbody tr th:only-of-type {\n        vertical-align: middle;\n    }\n\n    .dataframe tbody tr th {\n        vertical-align: top;\n    }\n\n    .dataframe thead th {\n        text-align: right;\n    }\n</style>\n<table border=\"1\" class=\"dataframe\">\n  <thead>\n    <tr style=\"text-align: right;\">\n      <th></th>\n      <th>乳牛編號</th>\n      <th>母牛體重</th>\n      <th>胎次</th>\n      <th>分娩難易度</th>\n      <th>酪農場代號</th>\n    </tr>\n  </thead>\n  <tbody>\n    <tr>\n      <th>0</th>\n      <td>87121677</td>\n      <td>0.0</td>\n      <td>2</td>\n      <td>1.0</td>\n      <td>1</td>\n    </tr>\n    <tr>\n      <th>1</th>\n      <td>96126940</td>\n      <td>522.0</td>\n      <td>2</td>\n      <td>2.0</td>\n      <td>1</td>\n    </tr>\n    <tr>\n      <th>2</th>\n      <td>95181708</td>\n      <td>670.0</td>\n      <td>5</td>\n      <td>1.0</td>\n      <td>2</td>\n    </tr>\n    <tr>\n      <th>3</th>\n      <td>97127665</td>\n      <td>0.0</td>\n      <td>3</td>\n      <td>2.0</td>\n      <td>1</td>\n    </tr>\n    <tr>\n      <th>4</th>\n      <td>97182634</td>\n      <td>630.0</td>\n      <td>4</td>\n      <td>1.0</td>\n      <td>2</td>\n    </tr>\n    <tr>\n      <th>...</th>\n      <td>...</td>\n      <td>...</td>\n      <td>...</td>\n      <td>...</td>\n      <td>...</td>\n    </tr>\n    <tr>\n      <th>3755</th>\n      <td>4181793</td>\n      <td>590.0</td>\n      <td>2</td>\n      <td>3.0</td>\n      <td>2</td>\n    </tr>\n    <tr>\n      <th>3756</th>\n      <td>5184341</td>\n      <td>560.0</td>\n      <td>2</td>\n      <td>1.0</td>\n      <td>2</td>\n    </tr>\n    <tr>\n      <th>3757</th>\n      <td>5184348</td>\n      <td>580.0</td>\n      <td>2</td>\n      <td>1.0</td>\n      <td>2</td>\n    </tr>\n    <tr>\n      <th>3758</th>\n      <td>97182634</td>\n      <td>730.0</td>\n      <td>9</td>\n      <td>1.0</td>\n      <td>2</td>\n    </tr>\n    <tr>\n      <th>3759</th>\n      <td>99183190</td>\n      <td>690.0</td>\n      <td>7</td>\n      <td>1.0</td>\n      <td>2</td>\n    </tr>\n  </tbody>\n</table>\n<p>3587 rows × 5 columns</p>\n</div>"
     },
     "metadata": {},
     "execution_count": 10
    }
   ],
   "source": [
    "# birth feature\n",
    "birth_drop_columns = ['分娩日期', '乾乳日期', '犢牛編號1', '犢牛編號2', '登錄日期', '計算胎次', '犢牛體型', '犢牛性別']\n",
    "birth_x = birth.drop(columns=birth_drop_columns, axis = 1)\n",
    "# birth_x.describe(include = ['O'])\n",
    "birth_x['酪農場代號'] = birth_x['酪農場代號'].map(mapping)\n",
    "Train_birth_x = birth_x.loc[birth_x['乳牛編號'].isin(Train_Number)]\n",
    "Test_birth_x = birth_x.loc[birth_x['乳牛編號'].isin(Test_Number)]\n",
    "Train_birth_x"
   ]
  },
  {
   "cell_type": "code",
   "execution_count": null,
   "metadata": {},
   "outputs": [],
   "source": [
    "# def season(time):\n",
    "#     if len(item) == 0:\n",
    "#         return 0\n",
    "#     temp = int(item.split('/')[1])\n",
    "#     if temp >= 1 and temp <= 3:\n",
    "#         return '春'\n",
    "#     elif temp >= 4 and temp <= 6:\n",
    "#         return '夏'\n",
    "#     elif temp >= 7 and temp <= 9:\n",
    "#         return '秋'\n",
    "#     elif temp >= 10 and temp <= 12:\n",
    "#         return '冬'\n",
    "#     else:\n",
    "#         return 0"
   ]
  },
  {
   "cell_type": "code",
   "execution_count": 21,
   "metadata": {},
   "outputs": [],
   "source": [
    "# for i, item in enumerate(birth['分娩日期']):\n",
    "#     birth.loc[i, '分娩日期'] = season(item)\n",
    "# birth"
   ]
  },
  {
   "cell_type": "code",
   "execution_count": 253,
   "metadata": {},
   "outputs": [],
   "source": [
    "# res = pd.merge(birth, breed, on = '乳牛編號')\n",
    "# res = pd.merge(res, report, on = '乳牛編號')\n",
    "# res = pd.merge(res, spec, on = '乳牛編號')\n",
    "# res['分娩日期'][1]"
   ]
  },
  {
   "cell_type": "markdown",
   "metadata": {},
   "source": [
    "# Data Normalization"
   ]
  },
  {
   "cell_type": "code",
   "execution_count": 51,
   "metadata": {},
   "outputs": [
    {
     "data": {
      "text/plain": [
       "0       0.000000\n",
       "1       0.696000\n",
       "2       0.893333\n",
       "3       0.000000\n",
       "4       0.840000\n",
       "          ...   \n",
       "3755    0.786667\n",
       "3756    0.746667\n",
       "3757    0.773333\n",
       "3758    0.973333\n",
       "3759    0.920000\n",
       "Name: 母牛體重, Length: 3587, dtype: float64"
      ]
     },
     "execution_count": 51,
     "metadata": {},
     "output_type": "execute_result"
    }
   ],
   "source": [
    "#normalized_x = (Train_birth_x['母牛體重']-Train_birth_x['母牛體重'].min()) / (Train_birth_x['母牛體重'].max() - Train_birth_x['母牛體重'].min())\n",
    "#Train_birth_x['母牛體重'] = normalized_x\n",
    "#Train_birth_x['母牛體重']"
   ]
  },
  {
   "cell_type": "markdown",
   "metadata": {},
   "source": [
    "# Merge Data"
   ]
  },
  {
   "cell_type": "code",
   "execution_count": 11,
   "metadata": {},
   "outputs": [
    {
     "output_type": "execute_result",
     "data": {
      "text/plain": [
       "        酪農場代號_x  胎次_x   泌乳天數   月齡  配種次數  配種方式  精液種類  酪農場代號_y   母牛體重  胎次_y  \\\n",
       "0             0     1   78.0   26     1     0     0        0    0.0     1   \n",
       "1             0     1   78.0   26     1     0     0        0    0.0     2   \n",
       "2             0     1   78.0   26     1     0     0        0    0.0     1   \n",
       "3             0     1   78.0   26     1     0     0        0    0.0     2   \n",
       "4             0     1   78.0   26     1     0     0        0    0.0     1   \n",
       "...         ...   ...    ...  ...   ...   ...   ...      ...    ...   ...   \n",
       "803852        2     8  229.0  137     0     0     0        2  725.0     8   \n",
       "803853        2     8  229.0  137     0     0     0        2  725.0     8   \n",
       "803854        2     8  229.0  137     0     0     0        2  725.0     8   \n",
       "803855        2     8  229.0  137     0     0     0        2  725.0     8   \n",
       "803856        2     8  229.0  137     0     0     0        2  725.0     8   \n",
       "\n",
       "        分娩難易度  酪農場代號  \n",
       "0         0.0      0  \n",
       "1         0.0      0  \n",
       "2         0.0      0  \n",
       "3         0.0      0  \n",
       "4         0.0      0  \n",
       "...       ...    ...  \n",
       "803852    1.0      2  \n",
       "803853    1.0      2  \n",
       "803854    1.0      2  \n",
       "803855    1.0      2  \n",
       "803856    1.0      2  \n",
       "\n",
       "[803857 rows x 12 columns]"
      ],
      "text/html": "<div>\n<style scoped>\n    .dataframe tbody tr th:only-of-type {\n        vertical-align: middle;\n    }\n\n    .dataframe tbody tr th {\n        vertical-align: top;\n    }\n\n    .dataframe thead th {\n        text-align: right;\n    }\n</style>\n<table border=\"1\" class=\"dataframe\">\n  <thead>\n    <tr style=\"text-align: right;\">\n      <th></th>\n      <th>酪農場代號_x</th>\n      <th>胎次_x</th>\n      <th>泌乳天數</th>\n      <th>月齡</th>\n      <th>配種次數</th>\n      <th>配種方式</th>\n      <th>精液種類</th>\n      <th>酪農場代號_y</th>\n      <th>母牛體重</th>\n      <th>胎次_y</th>\n      <th>分娩難易度</th>\n      <th>酪農場代號</th>\n    </tr>\n  </thead>\n  <tbody>\n    <tr>\n      <th>0</th>\n      <td>0</td>\n      <td>1</td>\n      <td>78.0</td>\n      <td>26</td>\n      <td>1</td>\n      <td>0</td>\n      <td>0</td>\n      <td>0</td>\n      <td>0.0</td>\n      <td>1</td>\n      <td>0.0</td>\n      <td>0</td>\n    </tr>\n    <tr>\n      <th>1</th>\n      <td>0</td>\n      <td>1</td>\n      <td>78.0</td>\n      <td>26</td>\n      <td>1</td>\n      <td>0</td>\n      <td>0</td>\n      <td>0</td>\n      <td>0.0</td>\n      <td>2</td>\n      <td>0.0</td>\n      <td>0</td>\n    </tr>\n    <tr>\n      <th>2</th>\n      <td>0</td>\n      <td>1</td>\n      <td>78.0</td>\n      <td>26</td>\n      <td>1</td>\n      <td>0</td>\n      <td>0</td>\n      <td>0</td>\n      <td>0.0</td>\n      <td>1</td>\n      <td>0.0</td>\n      <td>0</td>\n    </tr>\n    <tr>\n      <th>3</th>\n      <td>0</td>\n      <td>1</td>\n      <td>78.0</td>\n      <td>26</td>\n      <td>1</td>\n      <td>0</td>\n      <td>0</td>\n      <td>0</td>\n      <td>0.0</td>\n      <td>2</td>\n      <td>0.0</td>\n      <td>0</td>\n    </tr>\n    <tr>\n      <th>4</th>\n      <td>0</td>\n      <td>1</td>\n      <td>78.0</td>\n      <td>26</td>\n      <td>1</td>\n      <td>0</td>\n      <td>0</td>\n      <td>0</td>\n      <td>0.0</td>\n      <td>1</td>\n      <td>0.0</td>\n      <td>0</td>\n    </tr>\n    <tr>\n      <th>...</th>\n      <td>...</td>\n      <td>...</td>\n      <td>...</td>\n      <td>...</td>\n      <td>...</td>\n      <td>...</td>\n      <td>...</td>\n      <td>...</td>\n      <td>...</td>\n      <td>...</td>\n      <td>...</td>\n      <td>...</td>\n    </tr>\n    <tr>\n      <th>803852</th>\n      <td>2</td>\n      <td>8</td>\n      <td>229.0</td>\n      <td>137</td>\n      <td>0</td>\n      <td>0</td>\n      <td>0</td>\n      <td>2</td>\n      <td>725.0</td>\n      <td>8</td>\n      <td>1.0</td>\n      <td>2</td>\n    </tr>\n    <tr>\n      <th>803853</th>\n      <td>2</td>\n      <td>8</td>\n      <td>229.0</td>\n      <td>137</td>\n      <td>0</td>\n      <td>0</td>\n      <td>0</td>\n      <td>2</td>\n      <td>725.0</td>\n      <td>8</td>\n      <td>1.0</td>\n      <td>2</td>\n    </tr>\n    <tr>\n      <th>803854</th>\n      <td>2</td>\n      <td>8</td>\n      <td>229.0</td>\n      <td>137</td>\n      <td>0</td>\n      <td>0</td>\n      <td>0</td>\n      <td>2</td>\n      <td>725.0</td>\n      <td>8</td>\n      <td>1.0</td>\n      <td>2</td>\n    </tr>\n    <tr>\n      <th>803855</th>\n      <td>2</td>\n      <td>8</td>\n      <td>229.0</td>\n      <td>137</td>\n      <td>0</td>\n      <td>0</td>\n      <td>0</td>\n      <td>2</td>\n      <td>725.0</td>\n      <td>8</td>\n      <td>1.0</td>\n      <td>2</td>\n    </tr>\n    <tr>\n      <th>803856</th>\n      <td>2</td>\n      <td>8</td>\n      <td>229.0</td>\n      <td>137</td>\n      <td>0</td>\n      <td>0</td>\n      <td>0</td>\n      <td>2</td>\n      <td>725.0</td>\n      <td>8</td>\n      <td>1.0</td>\n      <td>2</td>\n    </tr>\n  </tbody>\n</table>\n<p>803857 rows × 12 columns</p>\n</div>"
     },
     "metadata": {},
     "execution_count": 11
    }
   ],
   "source": [
    "x = pd.merge(Train_report_x, Train_breed_x, on = '乳牛編號')\n",
    "x = pd.merge(x, Train_birth_x, on = '乳牛編號')\n",
    "y = x['乳量'].values\n",
    "x = x.drop(columns = ['乳牛編號','乳量'], axis = 1)\n",
    "#res\n",
    "x"
   ]
  },
  {
   "cell_type": "code",
   "execution_count": 14,
   "metadata": {},
   "outputs": [],
   "source": [
    "test = pd.merge(Test_report_x, Test_breed_x, on = '乳牛編號', how = 'left')\n",
    "test = pd.merge(test, Test_birth_x, on = '乳牛編號', how = 'left')\n",
    "test.fillna(-1,inplace = True)\n",
    "test_without_ID = test.drop(columns = ['乳牛編號','乳量','ID'], axis = 1)"
   ]
  },
  {
   "cell_type": "code",
   "execution_count": null,
   "metadata": {},
   "outputs": [],
   "source": []
  }
 ],
 "metadata": {
  "kernelspec": {
   "display_name": "Python 3",
   "language": "python",
   "name": "python3"
  },
  "language_info": {
   "codemirror_mode": {
    "name": "ipython",
    "version": 3
   },
   "file_extension": ".py",
   "mimetype": "text/x-python",
   "name": "python",
   "nbconvert_exporter": "python",
   "pygments_lexer": "ipython3",
   "version": "3.8.5-final"
  }
 },
 "nbformat": 4,
 "nbformat_minor": 2
}