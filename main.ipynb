{
 "metadata": {
  "language_info": {
   "codemirror_mode": {
    "name": "ipython",
    "version": 3
   },
   "file_extension": ".py",
   "mimetype": "text/x-python",
   "name": "python",
   "nbconvert_exporter": "python",
   "pygments_lexer": "ipython3",
   "version": "3.8.3-final"
  },
  "orig_nbformat": 2,
  "kernelspec": {
   "name": "python3",
   "display_name": "Python 3"
  }
 },
 "nbformat": 4,
 "nbformat_minor": 2,
 "cells": [
  {
   "cell_type": "code",
   "execution_count": 40,
   "metadata": {},
   "outputs": [],
   "source": [
    "import pandas as pd\n"
   ]
  },
  {
   "cell_type": "code",
   "execution_count": 41,
   "metadata": {},
   "outputs": [],
   "source": [
    "filelist = ['birth.csv', 'breed.csv', 'report.csv', 'spec.csv']"
   ]
  },
  {
   "cell_type": "code",
   "execution_count": 42,
   "metadata": {},
   "outputs": [],
   "source": [
    "birth = pd.read_csv('./data/' + filelist[0])\n",
    "breed = pd.read_csv('./data/' + filelist[1])\n",
    "report = pd.read_csv('./data/' + filelist[2])\n",
    "spec = pd.read_csv('./data/' + filelist[3])"
   ]
  },
  {
   "cell_type": "code",
   "execution_count": 48,
   "metadata": {},
   "outputs": [
    {
     "output_type": "execute_result",
     "data": {
      "text/plain": [
       "         乳牛編號 狀況類別 狀況代號             狀況日期   備註             登錄日期 酪農場代號\n",
       "0     5022341    N  NaN  1999/8/24 00:00  NaN              NaN     A\n",
       "1     5022362    N  NaN  1999/8/24 00:00  NaN              NaN     A\n",
       "2     5022365    N  NaN  1999/8/24 00:00  NaN              NaN     A\n",
       "3     5022372    N  NaN  1999/8/24 00:00  NaN              NaN     A\n",
       "4     5022373    N  NaN  1999/8/24 00:00  NaN              NaN     A\n",
       "...       ...  ...  ...              ...  ...              ...   ...\n",
       "4357  3051593    N  NaN   2017/6/6 00:00  NaN   2017/6/7 00:00     A\n",
       "4358  1051842    C   12  2017/6/22 00:00  NaN   2017/7/6 00:00     A\n",
       "4359  2052033    C   31  2017/6/22 00:00  NaN   2017/7/6 00:00     A\n",
       "4360  2052019    C   12   2018/5/9 00:00  NaN  2018/5/11 00:00     A\n",
       "4361  3128053    C   31  2017/7/12 00:00  NaN  2017/7/19 00:00     B\n",
       "\n",
       "[4362 rows x 7 columns]"
      ],
      "text/html": "<div>\n<style scoped>\n    .dataframe tbody tr th:only-of-type {\n        vertical-align: middle;\n    }\n\n    .dataframe tbody tr th {\n        vertical-align: top;\n    }\n\n    .dataframe thead th {\n        text-align: right;\n    }\n</style>\n<table border=\"1\" class=\"dataframe\">\n  <thead>\n    <tr style=\"text-align: right;\">\n      <th></th>\n      <th>乳牛編號</th>\n      <th>狀況類別</th>\n      <th>狀況代號</th>\n      <th>狀況日期</th>\n      <th>備註</th>\n      <th>登錄日期</th>\n      <th>酪農場代號</th>\n    </tr>\n  </thead>\n  <tbody>\n    <tr>\n      <th>0</th>\n      <td>5022341</td>\n      <td>N</td>\n      <td>NaN</td>\n      <td>1999/8/24 00:00</td>\n      <td>NaN</td>\n      <td>NaN</td>\n      <td>A</td>\n    </tr>\n    <tr>\n      <th>1</th>\n      <td>5022362</td>\n      <td>N</td>\n      <td>NaN</td>\n      <td>1999/8/24 00:00</td>\n      <td>NaN</td>\n      <td>NaN</td>\n      <td>A</td>\n    </tr>\n    <tr>\n      <th>2</th>\n      <td>5022365</td>\n      <td>N</td>\n      <td>NaN</td>\n      <td>1999/8/24 00:00</td>\n      <td>NaN</td>\n      <td>NaN</td>\n      <td>A</td>\n    </tr>\n    <tr>\n      <th>3</th>\n      <td>5022372</td>\n      <td>N</td>\n      <td>NaN</td>\n      <td>1999/8/24 00:00</td>\n      <td>NaN</td>\n      <td>NaN</td>\n      <td>A</td>\n    </tr>\n    <tr>\n      <th>4</th>\n      <td>5022373</td>\n      <td>N</td>\n      <td>NaN</td>\n      <td>1999/8/24 00:00</td>\n      <td>NaN</td>\n      <td>NaN</td>\n      <td>A</td>\n    </tr>\n    <tr>\n      <th>...</th>\n      <td>...</td>\n      <td>...</td>\n      <td>...</td>\n      <td>...</td>\n      <td>...</td>\n      <td>...</td>\n      <td>...</td>\n    </tr>\n    <tr>\n      <th>4357</th>\n      <td>3051593</td>\n      <td>N</td>\n      <td>NaN</td>\n      <td>2017/6/6 00:00</td>\n      <td>NaN</td>\n      <td>2017/6/7 00:00</td>\n      <td>A</td>\n    </tr>\n    <tr>\n      <th>4358</th>\n      <td>1051842</td>\n      <td>C</td>\n      <td>12</td>\n      <td>2017/6/22 00:00</td>\n      <td>NaN</td>\n      <td>2017/7/6 00:00</td>\n      <td>A</td>\n    </tr>\n    <tr>\n      <th>4359</th>\n      <td>2052033</td>\n      <td>C</td>\n      <td>31</td>\n      <td>2017/6/22 00:00</td>\n      <td>NaN</td>\n      <td>2017/7/6 00:00</td>\n      <td>A</td>\n    </tr>\n    <tr>\n      <th>4360</th>\n      <td>2052019</td>\n      <td>C</td>\n      <td>12</td>\n      <td>2018/5/9 00:00</td>\n      <td>NaN</td>\n      <td>2018/5/11 00:00</td>\n      <td>A</td>\n    </tr>\n    <tr>\n      <th>4361</th>\n      <td>3128053</td>\n      <td>C</td>\n      <td>31</td>\n      <td>2017/7/12 00:00</td>\n      <td>NaN</td>\n      <td>2017/7/19 00:00</td>\n      <td>B</td>\n    </tr>\n  </tbody>\n</table>\n<p>4362 rows × 7 columns</p>\n</div>"
     },
     "metadata": {},
     "execution_count": 48
    }
   ],
   "source": [
    "birth_index = ['乳牛編號', '分娩日期', '乾乳日期','犢牛編號1','犢牛編號2','母牛體重','登錄日期','計算胎次','胎次','分娩難易度','犢牛體型','犢牛性別','酪農場代號']\n",
    "report_index = ['ID','資料年度','資料月份','酪農場代號','乳牛編號','父親精液編號','母親乳牛編號','出生日期','胎次','泌乳天數','乳量','最近分娩日期','採樣日期','月齡','檢測日期','最後配種日期','最後配種精液','配種次數','前次分娩日期','第一次配種日期','第一次配種精液']\n",
    "breed_index = ['乳牛編號','配種日期','配種精液','登錄日期','孕檢','配種方式','精液種類','酪農場代號']\n",
    "spec_index = ['乳牛編號','狀況類別','狀況代號','狀況日期','備註','登錄日期','酪農場代號']\n",
    "birth.columns = birth_index\n",
    "report.columns = report_index\n",
    "breed.columns = breed_index\n",
    "spec.columns = spec_index\n",
    "spec"
   ]
  },
  {
   "cell_type": "code",
   "execution_count": 67,
   "metadata": {},
   "outputs": [],
   "source": [
    "#features"
   ]
  },
  {
   "cell_type": "code",
   "execution_count": 70,
   "metadata": {},
   "outputs": [
    {
     "output_type": "execute_result",
     "data": {
      "text/plain": [
       "             乳牛編號             分娩日期 乾乳日期 犢牛編號1 犢牛編號2    母牛體           登錄日期_x  \\\n",
       "0        87121677   2013/1/4 00:00  NaN   NaN   NaN    NaN  2013/1/25 00:00   \n",
       "1        87121677   2013/1/4 00:00  NaN   NaN   NaN    NaN  2013/1/25 00:00   \n",
       "2        96126940   2013/1/2 00:00  NaN   NaN   NaN  522.0  2013/1/25 00:00   \n",
       "3        96126940   2013/1/2 00:00  NaN   NaN   NaN  522.0  2013/1/25 00:00   \n",
       "4        96126940   2013/1/2 00:00  NaN   NaN   NaN  522.0  2013/1/25 00:00   \n",
       "...           ...              ...  ...   ...   ...    ...              ...   \n",
       "1095190   5051868  2019/4/25 00:00  NaN   NaN   NaN    NaN   2019/5/8 00:00   \n",
       "1095191   5051868  2019/4/25 00:00  NaN   NaN   NaN    NaN   2019/5/8 00:00   \n",
       "1095192   5051868  2019/4/25 00:00  NaN   NaN   NaN    NaN   2019/5/8 00:00   \n",
       "1095193   6052029  2019/6/10 00:00  NaN   NaN   NaN    NaN   2019/7/2 00:00   \n",
       "1095194   6052029  2019/6/10 00:00  NaN   NaN   NaN    NaN   2019/7/2 00:00   \n",
       "\n",
       "         計算胎次  胎次_x  分娩難易度  ... 配種次數           前次分娩日期         第一次配種日期  \\\n",
       "0        True     2    1.0  ...    0  2012/1/10 00:00             NaN   \n",
       "1        True     2    1.0  ...    0  2012/1/10 00:00             NaN   \n",
       "2        True     2    2.0  ...    0  2010/3/13 00:00  2013/8/7 00:00   \n",
       "3        True     2    2.0  ...    0  2010/3/13 00:00  2013/8/7 00:00   \n",
       "4        True     2    2.0  ...    0  2010/3/13 00:00  2013/8/7 00:00   \n",
       "...       ...   ...    ...  ...  ...              ...             ...   \n",
       "1095190  True     1    NaN  ...    0              NaN             NaN   \n",
       "1095191  True     1    NaN  ...    0              NaN             NaN   \n",
       "1095192  True     1    NaN  ...    0              NaN             NaN   \n",
       "1095193  True     1    NaN  ...    0              NaN             NaN   \n",
       "1095194  True     1    NaN  ...    0              NaN             NaN   \n",
       "\n",
       "          第一次配種精液 狀況類別 狀況代號             狀況日期   備註             登錄日期 酪農場代號_y  \n",
       "0             NaN    C   42   2013/4/1 00:00  NaN  2013/4/30 00:00       B  \n",
       "1             NaN    C   42   2013/4/1 00:00  NaN  2013/4/30 00:00       B  \n",
       "2        200H4779    C   61   2013/9/9 00:00  NaN  2013/9/30 00:00       B  \n",
       "3        200H4779    C   61   2013/9/9 00:00  NaN  2013/9/30 00:00       B  \n",
       "4        200H4779    C   61   2013/9/9 00:00  NaN  2013/9/30 00:00       B  \n",
       "...           ...  ...  ...              ...  ...              ...     ...  \n",
       "1095190       NaN    D   29  2019/4/25 00:00  NaN   2019/5/8 00:00       A  \n",
       "1095191       NaN    D   29  2019/4/25 00:00  NaN   2019/5/8 00:00       A  \n",
       "1095192       NaN    D   29  2019/4/25 00:00  NaN   2019/5/8 00:00       A  \n",
       "1095193       NaN    D   29  2019/6/10 00:00  NaN   2019/7/2 00:00       A  \n",
       "1095194       NaN    D   29  2019/6/10 00:00  NaN   2019/7/2 00:00       A  \n",
       "\n",
       "[1095195 rows x 46 columns]"
      ],
      "text/html": "<div>\n<style scoped>\n    .dataframe tbody tr th:only-of-type {\n        vertical-align: middle;\n    }\n\n    .dataframe tbody tr th {\n        vertical-align: top;\n    }\n\n    .dataframe thead th {\n        text-align: right;\n    }\n</style>\n<table border=\"1\" class=\"dataframe\">\n  <thead>\n    <tr style=\"text-align: right;\">\n      <th></th>\n      <th>乳牛編號</th>\n      <th>分娩日期</th>\n      <th>乾乳日期</th>\n      <th>犢牛編號1</th>\n      <th>犢牛編號2</th>\n      <th>母牛體</th>\n      <th>登錄日期_x</th>\n      <th>計算胎次</th>\n      <th>胎次_x</th>\n      <th>分娩難易度</th>\n      <th>...</th>\n      <th>配種次數</th>\n      <th>前次分娩日期</th>\n      <th>第一次配種日期</th>\n      <th>第一次配種精液</th>\n      <th>狀況類別</th>\n      <th>狀況代號</th>\n      <th>狀況日期</th>\n      <th>備註</th>\n      <th>登錄日期</th>\n      <th>酪農場代號_y</th>\n    </tr>\n  </thead>\n  <tbody>\n    <tr>\n      <th>0</th>\n      <td>87121677</td>\n      <td>2013/1/4 00:00</td>\n      <td>NaN</td>\n      <td>NaN</td>\n      <td>NaN</td>\n      <td>NaN</td>\n      <td>2013/1/25 00:00</td>\n      <td>True</td>\n      <td>2</td>\n      <td>1.0</td>\n      <td>...</td>\n      <td>0</td>\n      <td>2012/1/10 00:00</td>\n      <td>NaN</td>\n      <td>NaN</td>\n      <td>C</td>\n      <td>42</td>\n      <td>2013/4/1 00:00</td>\n      <td>NaN</td>\n      <td>2013/4/30 00:00</td>\n      <td>B</td>\n    </tr>\n    <tr>\n      <th>1</th>\n      <td>87121677</td>\n      <td>2013/1/4 00:00</td>\n      <td>NaN</td>\n      <td>NaN</td>\n      <td>NaN</td>\n      <td>NaN</td>\n      <td>2013/1/25 00:00</td>\n      <td>True</td>\n      <td>2</td>\n      <td>1.0</td>\n      <td>...</td>\n      <td>0</td>\n      <td>2012/1/10 00:00</td>\n      <td>NaN</td>\n      <td>NaN</td>\n      <td>C</td>\n      <td>42</td>\n      <td>2013/4/1 00:00</td>\n      <td>NaN</td>\n      <td>2013/4/30 00:00</td>\n      <td>B</td>\n    </tr>\n    <tr>\n      <th>2</th>\n      <td>96126940</td>\n      <td>2013/1/2 00:00</td>\n      <td>NaN</td>\n      <td>NaN</td>\n      <td>NaN</td>\n      <td>522.0</td>\n      <td>2013/1/25 00:00</td>\n      <td>True</td>\n      <td>2</td>\n      <td>2.0</td>\n      <td>...</td>\n      <td>0</td>\n      <td>2010/3/13 00:00</td>\n      <td>2013/8/7 00:00</td>\n      <td>200H4779</td>\n      <td>C</td>\n      <td>61</td>\n      <td>2013/9/9 00:00</td>\n      <td>NaN</td>\n      <td>2013/9/30 00:00</td>\n      <td>B</td>\n    </tr>\n    <tr>\n      <th>3</th>\n      <td>96126940</td>\n      <td>2013/1/2 00:00</td>\n      <td>NaN</td>\n      <td>NaN</td>\n      <td>NaN</td>\n      <td>522.0</td>\n      <td>2013/1/25 00:00</td>\n      <td>True</td>\n      <td>2</td>\n      <td>2.0</td>\n      <td>...</td>\n      <td>0</td>\n      <td>2010/3/13 00:00</td>\n      <td>2013/8/7 00:00</td>\n      <td>200H4779</td>\n      <td>C</td>\n      <td>61</td>\n      <td>2013/9/9 00:00</td>\n      <td>NaN</td>\n      <td>2013/9/30 00:00</td>\n      <td>B</td>\n    </tr>\n    <tr>\n      <th>4</th>\n      <td>96126940</td>\n      <td>2013/1/2 00:00</td>\n      <td>NaN</td>\n      <td>NaN</td>\n      <td>NaN</td>\n      <td>522.0</td>\n      <td>2013/1/25 00:00</td>\n      <td>True</td>\n      <td>2</td>\n      <td>2.0</td>\n      <td>...</td>\n      <td>0</td>\n      <td>2010/3/13 00:00</td>\n      <td>2013/8/7 00:00</td>\n      <td>200H4779</td>\n      <td>C</td>\n      <td>61</td>\n      <td>2013/9/9 00:00</td>\n      <td>NaN</td>\n      <td>2013/9/30 00:00</td>\n      <td>B</td>\n    </tr>\n    <tr>\n      <th>...</th>\n      <td>...</td>\n      <td>...</td>\n      <td>...</td>\n      <td>...</td>\n      <td>...</td>\n      <td>...</td>\n      <td>...</td>\n      <td>...</td>\n      <td>...</td>\n      <td>...</td>\n      <td>...</td>\n      <td>...</td>\n      <td>...</td>\n      <td>...</td>\n      <td>...</td>\n      <td>...</td>\n      <td>...</td>\n      <td>...</td>\n      <td>...</td>\n      <td>...</td>\n      <td>...</td>\n    </tr>\n    <tr>\n      <th>1095190</th>\n      <td>5051868</td>\n      <td>2019/4/25 00:00</td>\n      <td>NaN</td>\n      <td>NaN</td>\n      <td>NaN</td>\n      <td>NaN</td>\n      <td>2019/5/8 00:00</td>\n      <td>True</td>\n      <td>1</td>\n      <td>NaN</td>\n      <td>...</td>\n      <td>0</td>\n      <td>NaN</td>\n      <td>NaN</td>\n      <td>NaN</td>\n      <td>D</td>\n      <td>29</td>\n      <td>2019/4/25 00:00</td>\n      <td>NaN</td>\n      <td>2019/5/8 00:00</td>\n      <td>A</td>\n    </tr>\n    <tr>\n      <th>1095191</th>\n      <td>5051868</td>\n      <td>2019/4/25 00:00</td>\n      <td>NaN</td>\n      <td>NaN</td>\n      <td>NaN</td>\n      <td>NaN</td>\n      <td>2019/5/8 00:00</td>\n      <td>True</td>\n      <td>1</td>\n      <td>NaN</td>\n      <td>...</td>\n      <td>0</td>\n      <td>NaN</td>\n      <td>NaN</td>\n      <td>NaN</td>\n      <td>D</td>\n      <td>29</td>\n      <td>2019/4/25 00:00</td>\n      <td>NaN</td>\n      <td>2019/5/8 00:00</td>\n      <td>A</td>\n    </tr>\n    <tr>\n      <th>1095192</th>\n      <td>5051868</td>\n      <td>2019/4/25 00:00</td>\n      <td>NaN</td>\n      <td>NaN</td>\n      <td>NaN</td>\n      <td>NaN</td>\n      <td>2019/5/8 00:00</td>\n      <td>True</td>\n      <td>1</td>\n      <td>NaN</td>\n      <td>...</td>\n      <td>0</td>\n      <td>NaN</td>\n      <td>NaN</td>\n      <td>NaN</td>\n      <td>D</td>\n      <td>29</td>\n      <td>2019/4/25 00:00</td>\n      <td>NaN</td>\n      <td>2019/5/8 00:00</td>\n      <td>A</td>\n    </tr>\n    <tr>\n      <th>1095193</th>\n      <td>6052029</td>\n      <td>2019/6/10 00:00</td>\n      <td>NaN</td>\n      <td>NaN</td>\n      <td>NaN</td>\n      <td>NaN</td>\n      <td>2019/7/2 00:00</td>\n      <td>True</td>\n      <td>1</td>\n      <td>NaN</td>\n      <td>...</td>\n      <td>0</td>\n      <td>NaN</td>\n      <td>NaN</td>\n      <td>NaN</td>\n      <td>D</td>\n      <td>29</td>\n      <td>2019/6/10 00:00</td>\n      <td>NaN</td>\n      <td>2019/7/2 00:00</td>\n      <td>A</td>\n    </tr>\n    <tr>\n      <th>1095194</th>\n      <td>6052029</td>\n      <td>2019/6/10 00:00</td>\n      <td>NaN</td>\n      <td>NaN</td>\n      <td>NaN</td>\n      <td>NaN</td>\n      <td>2019/7/2 00:00</td>\n      <td>True</td>\n      <td>1</td>\n      <td>NaN</td>\n      <td>...</td>\n      <td>0</td>\n      <td>NaN</td>\n      <td>NaN</td>\n      <td>NaN</td>\n      <td>D</td>\n      <td>29</td>\n      <td>2019/6/10 00:00</td>\n      <td>NaN</td>\n      <td>2019/7/2 00:00</td>\n      <td>A</td>\n    </tr>\n  </tbody>\n</table>\n<p>1095195 rows × 46 columns</p>\n</div>"
     },
     "metadata": {},
     "execution_count": 70
    }
   ],
   "source": [
    "res = pd.merge(birth, breed, on = '乳牛編號')\n",
    "res = pd.merge(res, report, on = '乳牛編號')\n",
    "res = pd.merge(res, spec, on = '乳牛編號')\n",
    "res"
   ]
  },
  {
   "cell_type": "code",
   "execution_count": 72,
   "metadata": {},
   "outputs": [],
   "source": [
    "def season(time):\n",
    "    if time == 'NaN':\n",
    "        return time\n",
    "    temp = time.split('/')\n",
    "    if temp >= 1 and temp <= 3:\n",
    "        return '春'\n",
    "    elif temp >= 4 and temp <= 6:\n",
    "        return '夏'\n",
    "    elif temp >= 7 and temp <= 9:\n",
    "        return '秋'\n",
    "    elif temp >= 10 and temp <= 12:\n",
    "        return '冬'"
   ]
  },
  {
   "cell_type": "code",
   "execution_count": 77,
   "metadata": {},
   "outputs": [
    {
     "output_type": "error",
     "ename": "ValueError",
     "evalue": "can only convert an array of size 1 to a Python scalar",
     "traceback": [
      "\u001b[0;31m---------------------------------------------------------------------------\u001b[0m",
      "\u001b[0;31mValueError\u001b[0m                                Traceback (most recent call last)",
      "\u001b[0;32m<ipython-input-77-760c15fd722d>\u001b[0m in \u001b[0;36m<module>\u001b[0;34m\u001b[0m\n\u001b[1;32m      1\u001b[0m \u001b[0;31m#res['分娩日期'] = season(res['分娩日期'].item())\u001b[0m\u001b[0;34m\u001b[0m\u001b[0;34m\u001b[0m\u001b[0;34m\u001b[0m\u001b[0m\n\u001b[0;32m----> 2\u001b[0;31m \u001b[0mres\u001b[0m\u001b[0;34m[\u001b[0m\u001b[0;34m'分娩日期'\u001b[0m\u001b[0;34m]\u001b[0m\u001b[0;34m.\u001b[0m\u001b[0mitem\u001b[0m\u001b[0;34m(\u001b[0m\u001b[0;34m)\u001b[0m\u001b[0;34m\u001b[0m\u001b[0;34m\u001b[0m\u001b[0m\n\u001b[0m",
      "\u001b[0;32m~/opt/anaconda3/lib/python3.8/site-packages/pandas/core/base.py\u001b[0m in \u001b[0;36mitem\u001b[0;34m(self)\u001b[0m\n\u001b[1;32m    650\u001b[0m             \u001b[0;31m# numpy returns ints instead of datetime64/timedelta64 objects,\u001b[0m\u001b[0;34m\u001b[0m\u001b[0;34m\u001b[0m\u001b[0;34m\u001b[0m\u001b[0m\n\u001b[1;32m    651\u001b[0m             \u001b[0;31m#  which we need to wrap in Timestamp/Timedelta/Period regardless.\u001b[0m\u001b[0;34m\u001b[0m\u001b[0;34m\u001b[0m\u001b[0;34m\u001b[0m\u001b[0m\n\u001b[0;32m--> 652\u001b[0;31m             \u001b[0;32mreturn\u001b[0m \u001b[0mself\u001b[0m\u001b[0;34m.\u001b[0m\u001b[0mvalues\u001b[0m\u001b[0;34m.\u001b[0m\u001b[0mitem\u001b[0m\u001b[0;34m(\u001b[0m\u001b[0;34m)\u001b[0m\u001b[0;34m\u001b[0m\u001b[0;34m\u001b[0m\u001b[0m\n\u001b[0m\u001b[1;32m    653\u001b[0m \u001b[0;34m\u001b[0m\u001b[0m\n\u001b[1;32m    654\u001b[0m         \u001b[0;32mif\u001b[0m \u001b[0mlen\u001b[0m\u001b[0;34m(\u001b[0m\u001b[0mself\u001b[0m\u001b[0;34m)\u001b[0m \u001b[0;34m==\u001b[0m \u001b[0;36m1\u001b[0m\u001b[0;34m:\u001b[0m\u001b[0;34m\u001b[0m\u001b[0;34m\u001b[0m\u001b[0m\n",
      "\u001b[0;31mValueError\u001b[0m: can only convert an array of size 1 to a Python scalar"
     ]
    }
   ],
   "source": [
    "#res['分娩日期'] = season(res['分娩日期'].item())\n",
    "res['分娩日期'].item()"
   ]
  },
  {
   "cell_type": "code",
   "execution_count": null,
   "metadata": {},
   "outputs": [],
   "source": []
  }
 ]
}